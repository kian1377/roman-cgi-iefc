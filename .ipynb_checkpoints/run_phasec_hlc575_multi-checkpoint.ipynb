{
 "cells": [
  {
   "cell_type": "code",
   "execution_count": 3,
   "metadata": {
    "scrolled": true
   },
   "outputs": [],
   "source": [
    "import numpy as np\n",
    "import astropy.units as u\n",
    "from astropy.io import fits\n",
    "from pathlib import Path\n",
    "from importlib import reload\n",
    "import poppy\n",
    "\n",
    "import poppy_roman_cgi_phasec as cgi\n",
    "from poppy_roman_cgi_phasec import hlc\n",
    "import misc\n",
    "reload(hlc)\n",
    "\n",
    "cgi_dir = Path('/groups/douglase/kians-data-files/roman-cgi-phasec-data')\n",
    "\n",
    "wavelength_c = 575e-9*u.m\n",
    "Nacts = 48\n",
    "dm_diam = 46.3*u.mm\n",
    "act_spacing = 0.9906*u.mm\n",
    "\n",
    "dmdir = Path('/groups/douglase/kians-data-files/roman-cgi-phasec-data/dm-acts')\n",
    "dm1_piston_fname = str(dmdir/'hlc_dm1.fits')\n",
    "dm2_piston_fname = str(dmdir/'hlc_dm2.fits')\n",
    "\n",
    "dm1 = poppy.ContinuousDeformableMirror(dm_shape=(Nacts,Nacts), name='DM1', actuator_spacing=act_spacing, radius=dm_diam/2,\n",
    "                                       influence_func=str(dmdir/'proper_inf_func.fits'))\n",
    "dm1_piston_map = fits.getdata(dm1_piston_fname)\n",
    "dm1.set_surface(dm1_piston_map)\n",
    "\n",
    "dm2 = poppy.ContinuousDeformableMirror(dm_shape=(Nacts,Nacts), name='DM2', actuator_spacing=act_spacing, radius=dm_diam/2,\n",
    "                                       influence_func=str(dmdir/'proper_inf_func.fits'))\n",
    "dm2_piston_map = fits.getdata(dm2_piston_fname)\n",
    "dm2.set_surface(dm2_piston_map)\n",
    "\n",
    "# misc.display_dm(dm1)\n",
    "# misc.display_dm(dm2)\n"
   ]
  },
  {
   "cell_type": "code",
   "execution_count": null,
   "metadata": {},
   "outputs": [
    {
     "name": "stdout",
     "output_type": "stream",
     "text": [
      "running multi\n",
      "running hlc\n",
      "running hlc\n",
      "running hlc\n"
     ]
    }
   ],
   "source": [
    "from poppy_roman_cgi_phasec import run\n",
    "reload(run)\n",
    "\n",
    "wavelengths = np.linspace(wavelength_c - wavelength_c*.10/2, wavelength_c + wavelength_c*.10/2, 3)\n",
    "dm1s = ['hlc_dm1.fits', dm1]\n",
    "dm2s = ['hlc_dm2.fits', dm2]\n",
    "\n",
    "run.run_multi(ncpus=16, mode='HLC575', quiet=False,\n",
    "                          wavelength=wavelengths,\n",
    "#                           dm1 = 'hlc_dm1.fits', dm2='hlc_dm2.fits',\n",
    "#                           dm1=dm1s, dm2=dm2s,\n",
    "                          cgi_dir=cgi_dir,\n",
    "                          return_intermediates=True, \n",
    "                         )"
   ]
  }
 ],
 "metadata": {
  "kernelspec": {
   "display_name": "poppy-env",
   "language": "python",
   "name": "poppy-env"
  },
  "language_info": {
   "codemirror_mode": {
    "name": "ipython",
    "version": 3
   },
   "file_extension": ".py",
   "mimetype": "text/x-python",
   "name": "python",
   "nbconvert_exporter": "python",
   "pygments_lexer": "ipython3",
   "version": "3.9.7"
  }
 },
 "nbformat": 4,
 "nbformat_minor": 2
}
